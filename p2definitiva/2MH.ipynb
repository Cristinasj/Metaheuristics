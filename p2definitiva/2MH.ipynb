{
  "nbformat": 4,
  "nbformat_minor": 0,
  "metadata": {
    "colab": {
      "name": "2MH.ipynb",
      "provenance": [],
      "collapsed_sections": []
    },
    "kernelspec": {
      "name": "python3",
      "display_name": "Python 3"
    },
    "language_info": {
      "name": "python"
    }
  },
  "cells": [
    {
      "cell_type": "markdown",
      "source": [
        "# PRÁCTICA 2 DE MH\n",
        "## Cristina Sánchez Justicia\n",
        "\n",
        "Librerias que van a ser usadas: \n",
        "- numpy: Para trabajar con matrices\n",
        "- arff: Lectura de archivos\n",
        "- tabulate: salida "
      ],
      "metadata": {
        "id": "6l_Qq6YLvSoT"
      }
    },
    {
      "cell_type": "code",
      "source": [
        "import numpy as np \n",
        "from scipy.io import arff\n",
        "from tabulate import tabulate"
      ],
      "metadata": {
        "id": "dQ-df6fOvhuU"
      },
      "execution_count": 12,
      "outputs": []
    },
    {
      "cell_type": "markdown",
      "source": [
        "# Operador de cruce blx\n",
        "Parámetros:\n",
        "- madre, padre: dos vectores de pesos \n",
        "\n",
        "Return: \n",
        "- numpy array con dos vectores de pesos descendientes de esos padres"
      ],
      "metadata": {
        "id": "_uHNR1I1uJNX"
      }
    },
    {
      "cell_type": "code",
      "source": [
        "def blx(madre, padre): \n",
        "  tam = len(madre)\n",
        "  ALPHA = 0.3\n",
        "  # Vectores con Cmin y Cmax correspondientes para cada peso \n",
        "  min = np.empty(tam) \n",
        "  max = np.empty(tam)\n",
        "  for i in range(tam):\n",
        "    minimo = np.minimum(madre[i], padre[i])\n",
        "    maximo = np.maximum(madre[i], padre[i])\n",
        "    I = maximo - minimo \n",
        "    min[i] = minimo - I*ALPHA\n",
        "    max[i] = maximo + I*ALPHA\n",
        "  devolver1 = np.empty(tam)\n",
        "  devolver2 = np.empty(tam)  \n",
        "  for i in range(tam):\n",
        "    devolver1[i] = np.random.uniform(min[i],max[i]) \n",
        "    devolver2[i] = np.random.uniform(min[i],max[i]) \n",
        "  return devolver1, devolver2 "
      ],
      "metadata": {
        "id": "VIl-gCEJs1vB"
      },
      "execution_count": 13,
      "outputs": []
    },
    {
      "cell_type": "markdown",
      "source": [
        "# Operador de cruce CA \n",
        "Parámetros: \n",
        "- madre, padre: dos vectores de pesos \n",
        "\n",
        "Return: \n",
        "- numpy array con dos vectores de pesos descendientes de los padres"
      ],
      "metadata": {
        "id": "8U_cxYhrhbIu"
      }
    },
    {
      "cell_type": "code",
      "source": [
        "def ca(madre, padre): \n",
        "  tam = len(madre)\n",
        "  devolver = np.empty(tam)\n",
        "  for i in range(len): \n",
        "    aleatorio = np.random.rand()\n",
        "    devolver[i] = aleatorio * madre[i] + (1 - aleatorio)*padre[i]\n",
        "  return devolver \n"
      ],
      "metadata": {
        "id": "s7p-8GlahcuY"
      },
      "execution_count": 14,
      "outputs": []
    },
    {
      "cell_type": "markdown",
      "source": [
        "# 1-NN con Leave one out \n",
        "Código prestado por Pablo Millán Cubero\n",
        "\n",
        "Parámetros: \n",
        "- datos: matriz de datos sin la columna de la etiqueta. Cada ejemplo es una fila. \n",
        "- clases: vector unidimensional de etiquetas que coincide con la etiqueta de cada fila\n",
        "- w: peso que se quiere probar \n",
        "\n",
        "Return: \n",
        "- tas_clas"
      ],
      "metadata": {
        "id": "VcxbrzTOyNXP"
      }
    },
    {
      "cell_type": "code",
      "source": [
        "#Devuelve la predicción de clase del ejemplo 'nuevo', version alternativa\n",
        "def classf_1NN_(nuevo, datos, w, i):\n",
        "  distancias = np.sum((datos-nuevo)**2*w, 1)**0.5\n",
        "  distancias[i] = np.Inf\n",
        "  return np.argmin(distancias)\n",
        "\n",
        "#Calcula el error sobre un conjunto (leave one out)\n",
        "def calcular_error_leave(datos, clases, w):\n",
        "\n",
        "  w_temp = w.copy()\n",
        "  w_temp[w_temp < 0.1] = 0\n",
        "\n",
        "  aciertos = 0\n",
        "  for i in range(0, len(datos)):\n",
        "    c = classf_1NN_(datos[i], datos, w_temp, i)\n",
        "    if (clases[c] == clases[i]):\n",
        "      aciertos += 1\n",
        "\n",
        "  return aciertos/len(datos)"
      ],
      "metadata": {
        "id": "TnRbjRFPyNx1"
      },
      "execution_count": 15,
      "outputs": []
    },
    {
      "cell_type": "markdown",
      "source": [
        "# Tasa de clasificación \n",
        "Mide la presición del clasificador\n",
        "$$tasa\\_clas = 100 \\times \\frac{nº correctas}{nº Totales}$$"
      ],
      "metadata": {
        "id": "g18BaGtlsNPI"
      }
    },
    {
      "cell_type": "code",
      "source": [
        "def tasa_clas(pesos, datos, labels): \n",
        "  # devolver =  calcular_error_leave(datos, labels, pesos)\n",
        "  # No me funciona lo de arriba \n",
        "  devolver = 0.5 \n",
        "  return devolver "
      ],
      "metadata": {
        "id": "tnC2kcNPsN4T"
      },
      "execution_count": 16,
      "outputs": []
    },
    {
      "cell_type": "markdown",
      "source": [
        "# Tasa de reducción \n",
        "Mide la simplicidad del clasificador \n",
        "$$tasa\\_red=100 \\times \\frac{nºvalores<0.1}{nºcaracterísticas}$$"
      ],
      "metadata": {
        "id": "rMZPzd7xsOTR"
      }
    },
    {
      "cell_type": "code",
      "source": [
        "def tasa_red(pesos): \n",
        "  UMBRAL = 0.1\n",
        "  # (array < valor) convierte el array de pesos a un array de booleanos que son true sii cumplen la condición \n",
        "  # np.count_nonzero() devuelve el número de true que hay en un vector \n",
        "  return np.count_nonzero(pesos < UMBRAL) / len(pesos)"
      ],
      "metadata": {
        "id": "XBQBs4V1sOsq"
      },
      "execution_count": 17,
      "outputs": []
    },
    {
      "cell_type": "markdown",
      "source": [
        "# Operador de evaluación \n",
        "Paráemtros: \n",
        "- "
      ],
      "metadata": {
        "id": "10JjW6hKqevH"
      }
    },
    {
      "cell_type": "code",
      "source": [
        "def evaluacion(pesos, datos, labels): \n",
        "  ALPHA = 0.5\n",
        "  return ALPHA * tasa_clas(pesos, datos, labels) + ALPHA * tasa_red(pesos)"
      ],
      "metadata": {
        "id": "XPUpk2ZxsGxB"
      },
      "execution_count": 18,
      "outputs": []
    },
    {
      "cell_type": "markdown",
      "source": [
        "# Mutación \n",
        "Parámetros: \n",
        "- pesos: array de pesos \n",
        "\n",
        "Salida: \n",
        "- array de pesos mutado "
      ],
      "metadata": {
        "id": "UrMdiifcrtBz"
      }
    },
    {
      "cell_type": "code",
      "source": [
        "def mutar(pesos):\n",
        "  return pesos*np.random.uniform(0,1)"
      ],
      "metadata": {
        "id": "4YCe9KQEr5TV"
      },
      "execution_count": 19,
      "outputs": []
    },
    {
      "cell_type": "markdown",
      "source": [
        "# Algoritmo genético generacional\n",
        "Parámetros: \n",
        "- datos: ejemplos del problema  \n",
        "- labels: la clase correspondiente de cada fila de características \n",
        "- opcruce: puntero a la función que hace de operador de cruce (blx o ca) \n",
        "- numero_iteraciones: cantidad de iteraciones que dará el algoritmo  \n",
        "\n",
        "Return: \n",
        "- vector de pesos ajustado "
      ],
      "metadata": {
        "id": "mv8Jukk0utUI"
      }
    },
    {
      "cell_type": "code",
      "source": [
        "def agg (datos, labels, opcruce, numero_iteraciones_max):\n",
        "  PROBABILIDAD_MUTACION = 0 \n",
        "  # Se extrae el tamaño del vector de pesos de los datos del problema \n",
        "  tam_cromosoma = len(datos)\n",
        "  # Número de cromosomas que hay en nuestra población \n",
        "  tam_poblacion = 10\n",
        "\n",
        "  # inicializar P(t) \n",
        "  poblacion = np.random.rand(tam_poblacion, tam_cromosoma)\n",
        "  \n",
        "  iteraciones = 0\n",
        "  while (iteraciones < numero_iteraciones_max): \n",
        "    poblacion_actual = np.empty((tam_poblacion,tam_cromosoma))\n",
        "    for i in range(0, tam_poblacion, 2):  \n",
        "      # recombinar P'\n",
        "      hijo1, hijo2 = opcruce(poblacion[i], poblacion[i+1])\n",
        "      # Solo se muta uno de ellos \n",
        "      if (i == 1): \n",
        "        poblacion_actual[i] = mutar(hijo1)      \n",
        "      else: \n",
        "        poblacion_actual[i] = hijo1\n",
        "      poblacion_actual[i+1] = hijo2\n",
        "    evaluacion_poblacion = np.empty((tam_poblacion))\n",
        "    evaluacion_actual = np.empty((tam_poblacion))\n",
        "    # Elitismo. Se busca el mejor de P(t) y se cambia por el peor de P(t-1)\n",
        "    for j in range(tam_poblacion): \n",
        "      evaluacion_poblacion[j] = evaluacion(poblacion[j], datos, labels)\n",
        "      evaluacion_actual[j] = evaluacion(poblacion_actual[j], datos, labels)\n",
        "      iteraciones += 1\n",
        "    indice_maximo = np.argmax(evaluacion_poblacion)\n",
        "    indice_minimo = np.argmin(evaluacion_actual)\n",
        "    poblacion_actual[indice_minimo] = poblacion[indice_maximo]\n",
        "    # reemplazar P(t) a partir de P(t-1) y P' \n",
        "    poblacion = poblacion_actual.copy()\n",
        "  # Se buscan los mejores para devolver. Se ordena en orden descendiente.  \n",
        "  poblacion[::-1].sort()\n",
        "  return poblacion[0], poblacion[1]"
      ],
      "metadata": {
        "id": "xHWkOomMuuB3"
      },
      "execution_count": 20,
      "outputs": []
    },
    {
      "cell_type": "markdown",
      "source": [
        "# Algoritmo Genético Estacionario \n",
        "Parámetros: \n",
        "- datos: ejemplos del problema  \n",
        "- labels: la clase correspondiente de cada fila de características \n",
        "- opcruce: puntero a la función que hace de operador de cruce (blx o ca) \n",
        "- numero_iteraciones: cantidad de iteraciones que dará el algoritmo  \n",
        "\n",
        "Return: \n",
        "- vector de pesos ajustado "
      ],
      "metadata": {
        "id": "-qdipbTWnD_x"
      }
    },
    {
      "cell_type": "code",
      "source": [
        "def age (datos, labels, opcruce, numero_iteraciones): \n",
        "  resultado = np.empty(len(datos[0]))\n",
        "  iteraciones = 0 \n",
        "  poblacion = np.random.rand((50, len(datos[0])))\n",
        "  while iteraciones < numero_iteraciones: \n",
        "    # Los dos números podrían ser el mismo \n",
        "    while True: \n",
        "      n = np.random.rand(0, len(datos[0]))\n",
        "      m = np.random.rand(0, len(datos[0]))\n",
        "      if n != m: \n",
        "        break \n",
        "    hijo1, hijo2 = opcruce(poblacion[n], poblacion[m])\n",
        "    # Los hijos y los padres compiten y dejamos en la población los mejores\n",
        "    competicion = np.empty(4)\n",
        "    competicion[0] = evaluacion(poblacion[n], datos, labels)\n",
        "    competicion[1] = evaluacion(poblacion[m], datos, labels)\n",
        "    competicion[2] = evaluacion(hijo1, datos, labels)\n",
        "    competicion[3] = evaluacion(hijo2, datos, labels)\n",
        "    mejor1 = np.amax(competicion)\n",
        "    competicion[np.where(competicion == mejor1)] = 0\n",
        "    mejor2 = np.amax(competicion) \n",
        "    poblacion[n] = mejor1\n",
        "    poblacion[m] = mejor2\n",
        "    iteraciones += 1 \n",
        "  return resultado "
      ],
      "metadata": {
        "id": "ZCqi9CfCnEuP"
      },
      "execution_count": 21,
      "outputs": []
    },
    {
      "cell_type": "markdown",
      "source": [
        "# Programa main"
      ],
      "metadata": {
        "id": "Eth-XLvzuyPP"
      }
    },
    {
      "cell_type": "code",
      "execution_count": 22,
      "metadata": {
        "colab": {
          "base_uri": "https://localhost:8080/"
        },
        "id": "tSwKhaf4lGjm",
        "outputId": "bc17eea4-c3b5-43f3-e45f-a6874f85df8e"
      },
      "outputs": [
        {
          "output_type": "stream",
          "name": "stdout",
          "text": [
            "¿Qué datos quiere leer?\n",
            "1- ionosphere\n",
            "2- parkinsons\n",
            "3- spectf-heart\n",
            "0- generacion de datos para tablas\n",
            "Introduzca 0, 1, 2, 3: 1\n",
            "\n",
            "~~~~~~~~~~~~~~~~~~~~~~~~~~~~~~~~~~~~\n",
            "Visualización de los datos excogidos\n",
            "Dataset: ionosphere\n",
            "\ta01's type is numeric\n",
            "\ta02's type is numeric\n",
            "\ta03's type is numeric\n",
            "\ta04's type is numeric\n",
            "\ta05's type is numeric\n",
            "\ta06's type is numeric\n",
            "\ta07's type is numeric\n",
            "\ta08's type is numeric\n",
            "\ta09's type is numeric\n",
            "\ta10's type is numeric\n",
            "\ta11's type is numeric\n",
            "\ta12's type is numeric\n",
            "\ta13's type is numeric\n",
            "\ta14's type is numeric\n",
            "\ta15's type is numeric\n",
            "\ta16's type is numeric\n",
            "\ta17's type is numeric\n",
            "\ta18's type is numeric\n",
            "\ta19's type is numeric\n",
            "\ta20's type is numeric\n",
            "\ta21's type is numeric\n",
            "\ta22's type is numeric\n",
            "\ta23's type is numeric\n",
            "\ta24's type is numeric\n",
            "\ta25's type is numeric\n",
            "\ta26's type is numeric\n",
            "\ta27's type is numeric\n",
            "\ta28's type is numeric\n",
            "\ta29's type is numeric\n",
            "\ta30's type is numeric\n",
            "\ta31's type is numeric\n",
            "\ta32's type is numeric\n",
            "\ta33's type is numeric\n",
            "\ta34's type is numeric\n",
            "\tclass's type is nominal, range is ('b', 'g')\n",
            "\n",
            "~~~~~~~~~~~~~~~~~~~~~~~~~~~~~~~~~~~~\n",
            "\n",
            "\n",
            "Cálculo de AGG con BLX\n",
            "...\n",
            "Calculándo\n",
            "...\n",
            "Pesos: (array([-0.1128374 , -0.00809272, -0.00648147,  0.00559817,  0.00971589,\n",
            "        0.01304899,  0.0132035 ,  0.01512926,  0.01595305,  0.01643372,\n",
            "        0.02273911,  0.03172989,  0.03532736,  0.04154034,  0.04158627,\n",
            "        0.04439158,  0.04550757,  0.04597982,  0.05002501,  0.05192711,\n",
            "        0.05249566,  0.05435531,  0.05773441,  0.05800332,  0.06371351,\n",
            "        0.06430864,  0.06523389,  0.06819483,  0.07713838,  0.07749098,\n",
            "        0.07850843,  0.08043243,  0.08202817,  0.08223782,  0.08502665,\n",
            "        0.08701866,  0.08726854,  0.0882382 ,  0.08898189,  0.08947622,\n",
            "        0.09151314,  0.09168169,  0.09419321,  0.09478386,  0.09613062,\n",
            "        0.09664799,  0.10606569,  0.10687804,  0.11230011,  0.11914416,\n",
            "        0.12036663,  0.1227359 ,  0.12413485,  0.12802909,  0.1288011 ,\n",
            "        0.1300336 ,  0.13049038,  0.13058138,  0.13174319,  0.13309526,\n",
            "        0.13745908,  0.14002861,  0.14953865,  0.15270407,  0.15323161,\n",
            "        0.15639863,  0.15659768,  0.15742578,  0.16951271,  0.16969498,\n",
            "        0.17234206,  0.17309011,  0.18095055,  0.18670082,  0.18815169,\n",
            "        0.1902197 ,  0.19074296,  0.19114764,  0.19409956,  0.19422318,\n",
            "        0.19931754,  0.19982563,  0.20068066,  0.2048504 ,  0.20769005,\n",
            "        0.21454428,  0.21592233,  0.21986023,  0.21991624,  0.22058459,\n",
            "        0.22168032,  0.22196399,  0.22218353,  0.2224892 ,  0.22372535,\n",
            "        0.22478564,  0.22773082,  0.22998396,  0.23071569,  0.23173021,\n",
            "        0.23554748,  0.23745641,  0.24313826,  0.24576469,  0.24705239,\n",
            "        0.25097756,  0.25281999,  0.25715096,  0.2580096 ,  0.26053186,\n",
            "        0.2632823 ,  0.26518115,  0.26908512,  0.26909793,  0.27749714,\n",
            "        0.28123132,  0.28543585,  0.28600531,  0.28692641,  0.29435848,\n",
            "        0.29750261,  0.30900523,  0.31214493,  0.31354178,  0.31526682,\n",
            "        0.31736921,  0.31883214,  0.32388322,  0.32403691,  0.32562506,\n",
            "        0.33090297,  0.33216544,  0.33522715,  0.33663105,  0.34401826,\n",
            "        0.34631991,  0.34869689,  0.34898308,  0.35389187,  0.35670119,\n",
            "        0.36033436,  0.36981265,  0.38851892,  0.38877358,  0.39479442,\n",
            "        0.39644994,  0.40143213,  0.40203423,  0.40766328,  0.40854062,\n",
            "        0.41390393,  0.41505504,  0.42307151,  0.42403946,  0.42655663,\n",
            "        0.42980807,  0.43838799,  0.43985304,  0.4404893 ,  0.44257355,\n",
            "        0.44434604,  0.45082243,  0.45181927,  0.45561711,  0.45974534,\n",
            "        0.46184978,  0.46359841,  0.46362957,  0.46449501,  0.46704963,\n",
            "        0.4758591 ,  0.47605556,  0.48437861,  0.4844893 ,  0.48577171,\n",
            "        0.4868252 ,  0.49550035,  0.49592066,  0.50134005,  0.5042464 ,\n",
            "        0.50446203,  0.50852508,  0.51270481,  0.51297179,  0.51671573,\n",
            "        0.52145044,  0.52313284,  0.524194  ,  0.52889896,  0.52906134,\n",
            "        0.53033713,  0.53159886,  0.5359136 ,  0.5363597 ,  0.5420445 ,\n",
            "        0.54468005,  0.54481659,  0.54523183,  0.54631288,  0.54704395,\n",
            "        0.5476718 ,  0.5504606 ,  0.55328316,  0.55451025,  0.55902957,\n",
            "        0.56506859,  0.56644341,  0.56760914,  0.57326416,  0.57358478,\n",
            "        0.57997939,  0.58080471,  0.58904121,  0.6027205 ,  0.60565469,\n",
            "        0.60924822,  0.61583218,  0.6168855 ,  0.61754914,  0.62315596,\n",
            "        0.62636615,  0.6357354 ,  0.63651957,  0.64392767,  0.65326267,\n",
            "        0.65419921,  0.65639407,  0.65866183,  0.66866726,  0.66945651,\n",
            "        0.67211715,  0.67294471,  0.67396328,  0.67540762,  0.67758126,\n",
            "        0.67909358,  0.67918858,  0.67955476,  0.6797026 ,  0.6867148 ,\n",
            "        0.69522058,  0.70027566,  0.70558784,  0.70600836,  0.71107739,\n",
            "        0.71581194,  0.72007384,  0.72499112,  0.72550948,  0.72680552,\n",
            "        0.72723396,  0.72991072,  0.73031255,  0.73326017,  0.73335389,\n",
            "        0.73617796,  0.7365945 ,  0.74524373,  0.75455201,  0.7552726 ,\n",
            "        0.75593427,  0.75665842,  0.7569004 ,  0.7585824 ,  0.75873874,\n",
            "        0.75893334,  0.76042433,  0.76883579,  0.77496724,  0.77947427,\n",
            "        0.78093398,  0.78426786,  0.78495141,  0.78990303,  0.7910952 ,\n",
            "        0.79145624,  0.79171391,  0.79712315,  0.80167726,  0.80346938,\n",
            "        0.80381402,  0.80783787,  0.81459008,  0.81659726,  0.81759155,\n",
            "        0.82001211,  0.82093766,  0.82516747,  0.82756793,  0.82769277,\n",
            "        0.82855585,  0.82975708,  0.83343263,  0.83469632,  0.8369296 ,\n",
            "        0.83840901,  0.83942123,  0.84056723,  0.84143338,  0.84607699,\n",
            "        0.84629881,  0.84847104,  0.86220784,  0.86450318,  0.86820169,\n",
            "        0.86849872,  0.87806725,  0.88047504,  0.88152396,  0.88275002,\n",
            "        0.88516035,  0.88586517,  0.88697305,  0.89037358,  0.89042373,\n",
            "        0.89115767,  0.8924453 ,  0.8934293 ,  0.89776417,  0.89890404,\n",
            "        0.89905912,  0.90019719,  0.90070416,  0.90085713,  0.90389178,\n",
            "        0.90410634,  0.90657327,  0.91428701,  0.91813794,  0.91988924,\n",
            "        0.9205006 ,  0.92130103,  0.92497156,  0.92668185,  0.93013339,\n",
            "        0.93831387,  0.93915752,  0.93992908,  0.94510756,  0.94692525,\n",
            "        0.94982349,  0.95459528,  0.95986682,  0.96060193,  0.96378711,\n",
            "        0.96430018,  0.97704465,  0.98711441,  0.9951277 ,  1.00321564,\n",
            "        1.0116302 ]), array([-0.1128374 , -0.00809272, -0.00648147,  0.00559817,  0.00971589,\n",
            "        0.01304899,  0.0132035 ,  0.01512926,  0.01595305,  0.01643372,\n",
            "        0.02273911,  0.03172989,  0.03532736,  0.04154034,  0.04158627,\n",
            "        0.04439158,  0.04550757,  0.04597982,  0.05002501,  0.05192711,\n",
            "        0.05249566,  0.05435531,  0.05773441,  0.05800332,  0.06371351,\n",
            "        0.06430864,  0.06523389,  0.06819483,  0.07713838,  0.07749098,\n",
            "        0.07850843,  0.08043243,  0.08202817,  0.08223782,  0.08502665,\n",
            "        0.08701866,  0.08726854,  0.0882382 ,  0.08898189,  0.08947622,\n",
            "        0.09151314,  0.09168169,  0.09419321,  0.09478386,  0.09613062,\n",
            "        0.09664799,  0.10606569,  0.10687804,  0.11230011,  0.11914416,\n",
            "        0.12036663,  0.1227359 ,  0.12413485,  0.12802909,  0.1288011 ,\n",
            "        0.1300336 ,  0.13049038,  0.13058138,  0.13174319,  0.13309526,\n",
            "        0.13745908,  0.14002861,  0.14953865,  0.15270407,  0.15323161,\n",
            "        0.15639863,  0.15659768,  0.15742578,  0.16951271,  0.16969498,\n",
            "        0.17234206,  0.17309011,  0.18095055,  0.18670082,  0.18815169,\n",
            "        0.1902197 ,  0.19074296,  0.19114764,  0.19409956,  0.19422318,\n",
            "        0.19931754,  0.19982563,  0.20068066,  0.2048504 ,  0.20769005,\n",
            "        0.21454428,  0.21592233,  0.21986023,  0.21991624,  0.22058459,\n",
            "        0.22168032,  0.22196399,  0.22218353,  0.2224892 ,  0.22372535,\n",
            "        0.22478564,  0.22773082,  0.22998396,  0.23071569,  0.23173021,\n",
            "        0.23554748,  0.23745641,  0.24313826,  0.24576469,  0.24705239,\n",
            "        0.25097756,  0.25281999,  0.25715096,  0.2580096 ,  0.26053186,\n",
            "        0.2632823 ,  0.26518115,  0.26908512,  0.26909793,  0.27749714,\n",
            "        0.28123132,  0.28543585,  0.28600531,  0.28692641,  0.29435848,\n",
            "        0.29750261,  0.30900523,  0.31214493,  0.31354178,  0.31526682,\n",
            "        0.31736921,  0.31883214,  0.32388322,  0.32403691,  0.32562506,\n",
            "        0.33090297,  0.33216544,  0.33522715,  0.33663105,  0.34401826,\n",
            "        0.34631991,  0.34869689,  0.34898308,  0.35389187,  0.35670119,\n",
            "        0.36033436,  0.36981265,  0.38851892,  0.38877358,  0.39479442,\n",
            "        0.39644994,  0.40143213,  0.40203423,  0.40766328,  0.40854062,\n",
            "        0.41390393,  0.41505504,  0.42307151,  0.42403946,  0.42655663,\n",
            "        0.42980807,  0.43838799,  0.43985304,  0.4404893 ,  0.44257355,\n",
            "        0.44434604,  0.45082243,  0.45181927,  0.45561711,  0.45974534,\n",
            "        0.46184978,  0.46359841,  0.46362957,  0.46449501,  0.46704963,\n",
            "        0.4758591 ,  0.47605556,  0.48437861,  0.4844893 ,  0.48577171,\n",
            "        0.4868252 ,  0.49550035,  0.49592066,  0.50134005,  0.5042464 ,\n",
            "        0.50446203,  0.50852508,  0.51270481,  0.51297179,  0.51671573,\n",
            "        0.52145044,  0.52313284,  0.524194  ,  0.52889896,  0.52906134,\n",
            "        0.53033713,  0.53159886,  0.5359136 ,  0.5363597 ,  0.5420445 ,\n",
            "        0.54468005,  0.54481659,  0.54523183,  0.54631288,  0.54704395,\n",
            "        0.5476718 ,  0.5504606 ,  0.55328316,  0.55451025,  0.55902957,\n",
            "        0.56506859,  0.56644341,  0.56760914,  0.57326416,  0.57358478,\n",
            "        0.57997939,  0.58080471,  0.58904121,  0.6027205 ,  0.60565469,\n",
            "        0.60924822,  0.61583218,  0.6168855 ,  0.61754914,  0.62315596,\n",
            "        0.62636615,  0.6357354 ,  0.63651957,  0.64392767,  0.65326267,\n",
            "        0.65419921,  0.65639407,  0.65866183,  0.66866726,  0.66945651,\n",
            "        0.67211715,  0.67294471,  0.67396328,  0.67540762,  0.67758126,\n",
            "        0.67909358,  0.67918858,  0.67955476,  0.6797026 ,  0.6867148 ,\n",
            "        0.69522058,  0.70027566,  0.70558784,  0.70600836,  0.71107739,\n",
            "        0.71581194,  0.72007384,  0.72499112,  0.72550948,  0.72680552,\n",
            "        0.72723396,  0.72991072,  0.73031255,  0.73326017,  0.73335389,\n",
            "        0.73617796,  0.7365945 ,  0.74524373,  0.75455201,  0.7552726 ,\n",
            "        0.75593427,  0.75665842,  0.7569004 ,  0.7585824 ,  0.75873874,\n",
            "        0.75893334,  0.76042433,  0.76883579,  0.77496724,  0.77947427,\n",
            "        0.78093398,  0.78426786,  0.78495141,  0.78990303,  0.7910952 ,\n",
            "        0.79145624,  0.79171391,  0.79712315,  0.80167726,  0.80346938,\n",
            "        0.80381402,  0.80783787,  0.81459008,  0.81659726,  0.81759155,\n",
            "        0.82001211,  0.82093766,  0.82516747,  0.82756793,  0.82769277,\n",
            "        0.82855585,  0.82975708,  0.83343263,  0.83469632,  0.8369296 ,\n",
            "        0.83840901,  0.83942123,  0.84056723,  0.84143338,  0.84607699,\n",
            "        0.84629881,  0.84847104,  0.86220784,  0.86450318,  0.86820169,\n",
            "        0.86849872,  0.87806725,  0.88047504,  0.88152396,  0.88275002,\n",
            "        0.88516035,  0.88586517,  0.88697305,  0.89037358,  0.89042373,\n",
            "        0.89115767,  0.8924453 ,  0.8934293 ,  0.89776417,  0.89890404,\n",
            "        0.89905912,  0.90019719,  0.90070416,  0.90085713,  0.90389178,\n",
            "        0.90410634,  0.90657327,  0.91428701,  0.91813794,  0.91988924,\n",
            "        0.9205006 ,  0.92130103,  0.92497156,  0.92668185,  0.93013339,\n",
            "        0.93831387,  0.93915752,  0.93992908,  0.94510756,  0.94692525,\n",
            "        0.94982349,  0.95459528,  0.95986682,  0.96060193,  0.96378711,\n",
            "        0.96430018,  0.97704465,  0.98711441,  0.9951277 ,  1.00321564,\n",
            "        1.0116302 ]))\n"
          ]
        }
      ],
      "source": [
        "# Lectura de datos \n",
        "print(\"¿Qué datos quiere leer?\")\n",
        "print(\"1- ionosphere\")\n",
        "print(\"2- parkinsons\")\n",
        "print(\"3- spectf-heart\")\n",
        "print(\"0- generacion de datos para tablas\")\n",
        "i = input(\"Introduzca 0, 1, 2, 3: \")\n",
        "i = int(i)\n",
        "while int(i) < 0 or int(i) > 3: \n",
        "  i = input(\"Pruebe otra vez: \")\n",
        "\n",
        "ionosphere = \"./datos/ionosphere.arff\"\n",
        "parkinsons = \"./datos/parkinsons.arff\"\n",
        "heart = \"./datos/spectf-heart.arff\"\n",
        "\n",
        "if i > 0 and i < 4:  \n",
        "  tam_atributos = 0\n",
        "  archivo = \"\" \n",
        "  if (int(i) == 1): \n",
        "    archivo = ionosphere \n",
        "    tam_atributos = 34\n",
        "    cantidad_atributos = 351\n",
        "  if (int(i) == 2): \n",
        "    archivo = parkinsons \n",
        "    tam_atributos = 22\n",
        "    cantidad_atributos = 195\n",
        "  if (int(i) == 3): \n",
        "    archivo = heart\n",
        "    tam_atributos = 44\n",
        "    cantidad_atributos = 349\n",
        "  \n",
        "  data, metadata = arff.loadarff(archivo)\n",
        "  \n",
        "  print()\n",
        "  print(\"~~~~~~~~~~~~~~~~~~~~~~~~~~~~~~~~~~~~\")\n",
        "  print(\"Visualización de los datos excogidos\")  \n",
        "  print(metadata)\n",
        "  print(\"~~~~~~~~~~~~~~~~~~~~~~~~~~~~~~~~~~~~\")\n",
        "  print()\n",
        "  \n",
        "  # Conversión de data a una matriz numpy y a un array paralelo de características\n",
        "  datos = np.empty((cantidad_atributos, tam_atributos))\n",
        "  \n",
        "  for i in range(tam_atributos): \n",
        "    for j in range(cantidad_atributos): \n",
        "      datos[j][i] = data[j][i]\n",
        "  \n",
        "  labels = []\n",
        "  for i in range(cantidad_atributos):\n",
        "    labels.append(str(data[i][tam_atributos])[2])  \n",
        "  \n",
        "  # Ejecuciones con los diferentes algoritmos \n",
        "  NUMERO_ITERACIONES = 1500 \n",
        "  print()\n",
        "  print(\"Cálculo de AGG con BLX\")\n",
        "  print(\"...\")\n",
        "  print(\"Calculándo\")\n",
        "  print(\"...\")\n",
        "  pesos = agg(data, labels, blx, NUMERO_ITERACIONES)\n",
        "  print(\"Pesos: {}\".format(pesos))\n",
        "if i == 0: \n",
        "  print()\n",
        "  print(\"~~~~~~~~~~~~~~~~~~~~~~~~~~~~~~~~~~~~~~~~~~~~~~~~~~~~~~~~~~~~~~~~~~~~~\")\n",
        "  print()\n",
        "  print(\"Tablas parciales\")\n",
        "  print()\n",
        "  print(\"~~~~~~~~~~~~~~~~~~~~~~~~~~~~~~~~~~~~~~~~~~~~~~~~~~~~~~~~~~~~~~~~~~~~~\")\n",
        "  print()\n",
        "  print(\"AGG-BLX\")\n",
        "  print()\n",
        "  print(\"Ionosphere\")\n",
        "  head = [\"\",\"%_clas\", \"%_red\", \"Agr\", \"T(ms)\"]\n",
        "  mydata = [\n",
        "            [\"Particion1\", \"\", \"\", \"\", \"\"],\n",
        "            [\"Particion2\", \"\", \"\", \"\", \"\"],\n",
        "            [\"Particion3\", \"\", \"\", \"\", \"\"],\n",
        "              [\"Particion4\", \"\", \"\", \"\", \"\"],\n",
        "            [\"Particion5\", \"\", \"\", \"\", \"\"],\n",
        "            [\"Media\", \"\", \"\", \"\", \"\"],\n",
        "  ] \n",
        "  print(tabulate(mydata, headers=head, tablefmt=\"grid\"))\n",
        "  print(\"Parkinsons\")\n",
        "  print(tabulate(mydata, headers=head, tablefmt=\"grid\"))\n",
        "  print(\"Spect-heart\")\n",
        "  print(tabulate(mydata, headers=head, tablefmt=\"grid\"))\n",
        "  print() \n",
        "  print(\"AGG-CA\")\n",
        "  print()\n",
        "  print(\"Ionosphere\")\n",
        "  print(tabulate(mydata, headers=head, tablefmt=\"grid\"))\n",
        "  print(\"Parkinsons\")\n",
        "  print(tabulate(mydata, headers=head, tablefmt=\"grid\"))\n",
        "  print(\"Spect-heart\")\n",
        "  print(tabulate(mydata, headers=head, tablefmt=\"grid\"))\n",
        "  print()  \n",
        "  print(\"AGE-BLX\")\n",
        "  print()\n",
        "  print(\"Ionosphere\")\n",
        "  print(tabulate(mydata, headers=head, tablefmt=\"grid\"))\n",
        "  print(\"Parkinsons\")\n",
        "  print(tabulate(mydata, headers=head, tablefmt=\"grid\"))\n",
        "  print(\"Spect-heart\")\n",
        "  print(tabulate(mydata, headers=head, tablefmt=\"grid\"))\n",
        "  print() \n",
        "  print(\"AGE-CA\")\n",
        "  print()\n",
        "  print(\"Ionosphere\")\n",
        "  print(tabulate(mydata, headers=head, tablefmt=\"grid\"))\n",
        "  print(\"Parkinsons\")\n",
        "  print(tabulate(mydata, headers=head, tablefmt=\"grid\"))\n",
        "  print(\"Spect-heart\")\n",
        "  print(tabulate(mydata, headers=head, tablefmt=\"grid\"))\n",
        "  print()   "
      ]
    }
  ]
}